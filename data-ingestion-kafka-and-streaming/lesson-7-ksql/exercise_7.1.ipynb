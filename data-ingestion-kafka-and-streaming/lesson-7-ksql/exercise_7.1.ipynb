{
 "cells": [
  {
   "cell_type": "markdown",
   "metadata": {
    "collapsed": true,
    "pycharm": {
     "name": "#%% md\n"
    }
   },
   "source": [
    "# Creating a Stream¶\n",
    "\n",
    "In this demonstration you'll learn a few ways to create a KSQL Stream. Once you've created your stream, you'll also see how to delete them.\n",
    "\n",
    "Throughout this lesson we will refer to two topics:\n",
    "\n",
    "com.udacity.streams.clickevents\n",
    "com.udacity.streams.pages\n",
    "com.udacity.streams.pages has the following data shape:\n",
    "\n",
    "Key: <uri: string> Value: ``` { \"uri\": , \"description\": , \"created\": , }\n",
    "\n",
    "```python\n",
    "\n",
    "`com.udacity.streams.clickevents` has the following data shape:\n",
    "\n",
    "**Key**: `<uri: string>`\n",
    "**Value**: ```\n",
    "{\n",
    "  \"email\": <string>,\n",
    "  \"timestamp\": <string>,\n",
    "  \"uri\": <string>,\n",
    "  \"number\": <int>\n",
    "}\n",
    "\n",
    "```\n",
    "\n",
    "# Showing Topics¶\n",
    "The first step is to open the KSQL CLI.\n",
    "\n",
    "```shell\n",
    "root@c9827c86286f:/home/workspace# ksql\n",
    "```\n",
    "With the CLI Open, lets now see what Kafka Topics we have available to us:\n",
    "\n",
    "```shell\n",
    "ksql> SHOW TOPICS;\n",
    "```\n",
    "you can see the two topics we're interested in -- `com.udacity.streams.clickevents` and `com.udacity.streams.pages`"
   ]
  },
  {
   "cell_type": "code",
   "execution_count": null,
   "outputs": [],
   "source": [],
   "metadata": {
    "collapsed": false,
    "pycharm": {
     "name": "#%%\n"
    }
   }
  }
 ],
 "metadata": {
  "kernelspec": {
   "display_name": "Python 3",
   "language": "python",
   "name": "python3"
  },
  "language_info": {
   "codemirror_mode": {
    "name": "ipython",
    "version": 2
   },
   "file_extension": ".py",
   "mimetype": "text/x-python",
   "name": "python",
   "nbconvert_exporter": "python",
   "pygments_lexer": "ipython2",
   "version": "2.7.6"
  }
 },
 "nbformat": 4,
 "nbformat_minor": 0
}